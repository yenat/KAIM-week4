{
 "cells": [
  {
   "cell_type": "code",
   "execution_count": 8,
   "metadata": {},
   "outputs": [],
   "source": [
    "import pandas as pd\n",
    "import numpy as np\n",
    "from sklearn.model_selection import train_test_split\n",
    "from sklearn.ensemble import RandomForestRegressor\n",
    "from sklearn.pipeline import Pipeline\n",
    "from sklearn.metrics import mean_squared_error\n",
    "from sklearn.preprocessing import StandardScaler\n"
   ]
  },
  {
   "cell_type": "code",
   "execution_count": 9,
   "metadata": {},
   "outputs": [
    {
     "name": "stdout",
     "output_type": "stream",
     "text": [
      "Preprocessed Train Data:\n",
      "   Store  DayOfWeek        Date     Sales  Customers      Open     Promo  \\\n",
      "0      1   0.501484  2015-07-31 -0.132683  -0.168269  0.452399  1.273237   \n",
      "1      2   0.501484  2015-07-31  0.075373  -0.017540  0.452399  1.273237   \n",
      "2      3   0.501484  2015-07-31  0.659800   0.404499  0.452399  1.273237   \n",
      "3      4   0.501484  2015-07-31  2.135414   1.862258  0.452399  1.273237   \n",
      "4      5   0.501484  2015-07-31 -0.247231  -0.159656  0.452399  1.273237   \n",
      "\n",
      "  StateHoliday  SchoolHoliday   Weekday  Weekend  Day_of_Month     Month  \\\n",
      "0            0       2.144211  0.501484    False      1.740766  0.346724   \n",
      "1            0       2.144211  0.501484    False      1.740766  0.346724   \n",
      "2            0       2.144211  0.501484    False      1.740766  0.346724   \n",
      "3            0       2.144211  0.501484    False      1.740766  0.346724   \n",
      "4            0       2.144211  0.501484    False      1.740766  0.346724   \n",
      "\n",
      "       Year  Is_Beginning_Month  Is_Mid_Month  Is_End_Month  \n",
      "0  1.502077               False         False          True  \n",
      "1  1.502077               False         False          True  \n",
      "2  1.502077               False         False          True  \n",
      "3  1.502077               False         False          True  \n",
      "4  1.502077               False         False          True  \n"
     ]
    },
    {
     "name": "stderr",
     "output_type": "stream",
     "text": [
      "/home/enat/.local/lib/python3.10/site-packages/IPython/core/interactiveshell.py:3577: DtypeWarning: Columns (7) have mixed types.Specify dtype option on import or set low_memory=False.\n",
      "  exec(code_obj, self.user_global_ns, self.user_ns)\n",
      "/home/enat/.local/lib/python3.10/site-packages/IPython/core/interactiveshell.py:3577: DtypeWarning: Columns (6) have mixed types.Specify dtype option on import or set low_memory=False.\n",
      "  exec(code_obj, self.user_global_ns, self.user_ns)\n"
     ]
    }
   ],
   "source": [
    "#Load preprocessed data\n",
    "train_df = pd.read_csv('preprocessed_train.csv')\n",
    "test_df = pd.read_csv('preprocessed_test.csv')\n",
    "\n",
    "# Display the first few rows of the train dataset\n",
    "print(\"Preprocessed Train Data:\")\n",
    "print(train_df.head())\n"
   ]
  },
  {
   "cell_type": "code",
   "execution_count": 10,
   "metadata": {},
   "outputs": [
    {
     "name": "stdout",
     "output_type": "stream",
     "text": [
      "Train Data with Date Features:\n",
      "   Store  DayOfWeek       Date     Sales  Customers      Open     Promo  \\\n",
      "0      1   0.501484 2015-07-31 -0.132683  -0.168269  0.452399  1.273237   \n",
      "1      2   0.501484 2015-07-31  0.075373  -0.017540  0.452399  1.273237   \n",
      "2      3   0.501484 2015-07-31  0.659800   0.404499  0.452399  1.273237   \n",
      "3      4   0.501484 2015-07-31  2.135414   1.862258  0.452399  1.273237   \n",
      "4      5   0.501484 2015-07-31 -0.247231  -0.159656  0.452399  1.273237   \n",
      "\n",
      "  StateHoliday  SchoolHoliday  Weekday  Weekend  Day_of_Month  Month  Year  \\\n",
      "0            0       2.144211        4    False            31      7  2015   \n",
      "1            0       2.144211        4    False            31      7  2015   \n",
      "2            0       2.144211        4    False            31      7  2015   \n",
      "3            0       2.144211        4    False            31      7  2015   \n",
      "4            0       2.144211        4    False            31      7  2015   \n",
      "\n",
      "   Is_Beginning_Month  Is_Mid_Month  Is_End_Month  \n",
      "0               False         False          True  \n",
      "1               False         False          True  \n",
      "2               False         False          True  \n",
      "3               False         False          True  \n",
      "4               False         False          True  \n"
     ]
    }
   ],
   "source": [
    "# Extract features from the Date column\n",
    "def extract_date_features(df):\n",
    "    df['Date'] = pd.to_datetime(df['Date'])\n",
    "    df['Weekday'] = df['Date'].dt.weekday\n",
    "    df['Day_of_Month'] = df['Date'].dt.day\n",
    "    df['Month'] = df['Date'].dt.month\n",
    "    df['Year'] = df['Date'].dt.year\n",
    "    return df\n",
    "\n",
    "train_df = extract_date_features(train_df)\n",
    "test_df = extract_date_features(test_df)\n",
    "\n",
    "# Display the extracted features\n",
    "print(\"Train Data with Date Features:\")\n",
    "print(train_df.head())\n"
   ]
  },
  {
   "cell_type": "code",
   "execution_count": 11,
   "metadata": {},
   "outputs": [
    {
     "name": "stdout",
     "output_type": "stream",
     "text": [
      "Cleaned Train Data:\n",
      "   Store  DayOfWeek                 Date     Sales  Customers      Open  \\\n",
      "0      1   0.501484  1438300800000000000 -0.132683  -0.168269  0.452399   \n",
      "1      2   0.501484  1438300800000000000  0.075373  -0.017540  0.452399   \n",
      "2      3   0.501484  1438300800000000000  0.659800   0.404499  0.452399   \n",
      "3      4   0.501484  1438300800000000000  2.135414   1.862258  0.452399   \n",
      "4      5   0.501484  1438300800000000000 -0.247231  -0.159656  0.452399   \n",
      "\n",
      "      Promo  StateHoliday  SchoolHoliday  Weekday  Weekend  Day_of_Month  \\\n",
      "0  1.273237           0.0       2.144211        4    False            31   \n",
      "1  1.273237           0.0       2.144211        4    False            31   \n",
      "2  1.273237           0.0       2.144211        4    False            31   \n",
      "3  1.273237           0.0       2.144211        4    False            31   \n",
      "4  1.273237           0.0       2.144211        4    False            31   \n",
      "\n",
      "   Month  Year  Is_Beginning_Month  Is_Mid_Month  Is_End_Month  \n",
      "0      7  2015               False         False          True  \n",
      "1      7  2015               False         False          True  \n",
      "2      7  2015               False         False          True  \n",
      "3      7  2015               False         False          True  \n",
      "4      7  2015               False         False          True  \n",
      "Cleaned Test Data:\n",
      "   Id  Store  DayOfWeek                 Date      Open     Promo  \\\n",
      "0   1      1   0.010337  1442448000000000000  0.412874  1.235442   \n",
      "1   2      3   0.010337  1442448000000000000  0.412874  1.235442   \n",
      "2   3      7   0.010337  1442448000000000000  0.412874  1.235442   \n",
      "3   4      8   0.010337  1442448000000000000  0.412874  1.235442   \n",
      "4   5      9   0.010337  1442448000000000000  0.412874  1.235442   \n",
      "\n",
      "   StateHoliday  SchoolHoliday  Weekday  Weekend  Day_of_Month  Month  Year  \\\n",
      "0           0.0      -0.892695        3    False            17      9  2015   \n",
      "1           0.0      -0.892695        3    False            17      9  2015   \n",
      "2           0.0      -0.892695        3    False            17      9  2015   \n",
      "3           0.0      -0.892695        3    False            17      9  2015   \n",
      "4           0.0      -0.892695        3    False            17      9  2015   \n",
      "\n",
      "   Is_Beginning_Month  Is_Mid_Month  Is_End_Month  \n",
      "0               False          True         False  \n",
      "1               False          True         False  \n",
      "2               False          True         False  \n",
      "3               False          True         False  \n",
      "4               False          True         False  \n"
     ]
    }
   ],
   "source": [
    "# Handle non-numeric or invalid values\n",
    "def clean_data(df):\n",
    "    # Convert non-numeric columns to numeric where applicable\n",
    "    df = df.apply(pd.to_numeric, errors='coerce')\n",
    "    \n",
    "    # Fill or drop NaN values created by coercion\n",
    "    df.fillna(df.median(), inplace=True)\n",
    "    \n",
    "    return df\n",
    "\n",
    "train_df = clean_data(train_df)\n",
    "test_df = clean_data(test_df)\n",
    "\n",
    "# Display the cleaned data\n",
    "print(\"Cleaned Train Data:\")\n",
    "print(train_df.head())\n",
    "print(\"Cleaned Test Data:\")\n",
    "print(test_df.head())\n"
   ]
  },
  {
   "cell_type": "code",
   "execution_count": 12,
   "metadata": {},
   "outputs": [
    {
     "name": "stdout",
     "output_type": "stream",
     "text": [
      "Training and validation sets created.\n"
     ]
    }
   ],
   "source": [
    "# Split the data into features and target\n",
    "# Dropping 'Date' column but keeping extracted features\n",
    "X = train_df.drop(['Sales', 'Date'], axis=1)\n",
    "y = train_df['Sales']\n",
    "\n",
    "# Ensure the training data has the same columns as the test data\n",
    "common_columns = list(set(X.columns).intersection(set(test_df.columns)))\n",
    "X = X[common_columns]\n",
    "\n",
    "# Split the data into training and validation sets\n",
    "X_train, X_valid, y_train, y_valid = train_test_split(X, y, test_size=0.2, random_state=42)\n",
    "\n",
    "print(\"Training and validation sets created.\")\n",
    "\n"
   ]
  },
  {
   "cell_type": "code",
   "execution_count": 13,
   "metadata": {},
   "outputs": [
    {
     "name": "stdout",
     "output_type": "stream",
     "text": [
      "Model training completed.\n"
     ]
    }
   ],
   "source": [
    "# Define the pipeline\n",
    "pipeline = Pipeline([\n",
    "    ('scaler', StandardScaler()),  # Scaling the features\n",
    "    ('model', RandomForestRegressor(n_estimators=100, random_state=42))  # Random Forest Regressor model\n",
    "])\n",
    "\n",
    "# Fit the pipeline on the training data\n",
    "pipeline.fit(X_train, y_train)\n",
    "\n",
    "print(\"Model training completed.\")\n"
   ]
  },
  {
   "cell_type": "code",
   "execution_count": 14,
   "metadata": {},
   "outputs": [
    {
     "name": "stdout",
     "output_type": "stream",
     "text": [
      "Training MSE: 0.02152128262905951\n",
      "Validation MSE: 0.15552892623015085\n"
     ]
    }
   ],
   "source": [
    "# Predict and evaluate the model\n",
    "y_pred_train = pipeline.predict(X_train)\n",
    "y_pred_valid = pipeline.predict(X_valid)\n",
    "\n",
    "# Calculate Mean Squared Error\n",
    "mse_train = mean_squared_error(y_train, y_pred_train)\n",
    "mse_valid = mean_squared_error(y_valid, y_pred_valid)\n",
    "\n",
    "print(f\"Training MSE: {mse_train}\")\n",
    "print(f\"Validation MSE: {mse_valid}\")\n"
   ]
  },
  {
   "cell_type": "code",
   "execution_count": 15,
   "metadata": {},
   "outputs": [
    {
     "name": "stdout",
     "output_type": "stream",
     "text": [
      "Predictions saved to submission.csv.\n"
     ]
    }
   ],
   "source": [
    "# Make predictions on the test data\n",
    "# Dropping 'Date' column but keeping extracted features\n",
    "X_test = test_df.drop(['Id', 'Date'], axis=1)\n",
    "X_test = X_test[common_columns]  # Ensure the test data has the same columns as the training data\n",
    "\n",
    "y_test_pred = pipeline.predict(X_test)\n",
    "\n",
    "# Create a DataFrame for submission\n",
    "submission = pd.DataFrame({'Id': test_df['Id'], 'Sales': y_test_pred})\n",
    "\n",
    "# Save the submission DataFrame to a CSV file\n",
    "submission.to_csv('submission.csv', index=False)\n",
    "\n",
    "print(\"Predictions saved to submission.csv.\")\n",
    "\n"
   ]
  },
  {
   "cell_type": "code",
   "execution_count": 16,
   "metadata": {},
   "outputs": [
    {
     "data": {
      "image/png": "[encoded data removed]",
      "text/plain": [
       "<Figure size 1200x600 with 1 Axes>"
      ]
     },
     "metadata": {},
     "output_type": "display_data"
    }
   ],
   "source": [
    "#Post prediction analysis\n",
    "import matplotlib.pyplot as plt\n",
    "\n",
    "# Get feature importance from the model\n",
    "feature_importances = pipeline.named_steps['model'].feature_importances_\n",
    "feature_names = X.columns\n",
    "importance_df = pd.DataFrame({'Feature': feature_names, 'Importance': feature_importances})\n",
    "\n",
    "# Sort features by importance\n",
    "importance_df = importance_df.sort_values(by='Importance', ascending=False)\n",
    "\n",
    "# Plot feature importance\n",
    "plt.figure(figsize=(12, 6))\n",
    "plt.bar(importance_df['Feature'], importance_df['Importance'])\n",
    "plt.title('Feature Importance')\n",
    "plt.xlabel('Features')\n",
    "plt.ylabel('Importance')\n",
    "plt.xticks(rotation=45)\n",
    "plt.show()\n"
   ]
  },
  {
   "cell_type": "code",
   "execution_count": 2,
   "metadata": {},
   "outputs": [
    {
     "ename": "NameError",
     "evalue": "name 'pipeline' is not defined",
     "output_type": "error",
     "traceback": [
      "\u001b[0;31m---------------------------------------------------------------------------\u001b[0m",
      "\u001b[0;31mNameError\u001b[0m                                 Traceback (most recent call last)",
      "Cell \u001b[0;32mIn[2], line 23\u001b[0m\n\u001b[1;32m     20\u001b[0m     \u001b[38;5;28;01mreturn\u001b[39;00m np\u001b[38;5;241m.\u001b[39marray(preds)\n\u001b[1;32m     22\u001b[0m \u001b[38;5;66;03m# Using a smaller sample size and parallel processing\u001b[39;00m\n\u001b[0;32m---> 23\u001b[0m bootstrap_preds \u001b[38;5;241m=\u001b[39m bootstrap_predictions(\u001b[43mpipeline\u001b[49m, X_valid, n_bootstrap\u001b[38;5;241m=\u001b[39m\u001b[38;5;241m100\u001b[39m, sample_size\u001b[38;5;241m=\u001b[39m\u001b[38;5;241m100\u001b[39m)\n\u001b[1;32m     25\u001b[0m \u001b[38;5;66;03m# Calculate confidence intervals\u001b[39;00m\n\u001b[1;32m     26\u001b[0m ci_lower \u001b[38;5;241m=\u001b[39m np\u001b[38;5;241m.\u001b[39mpercentile(bootstrap_preds, \u001b[38;5;241m2.5\u001b[39m, axis\u001b[38;5;241m=\u001b[39m\u001b[38;5;241m0\u001b[39m)\n",
      "\u001b[0;31mNameError\u001b[0m: name 'pipeline' is not defined"
     ]
    }
   ],
   "source": [
    "import numpy as np\n",
    "\n",
    "# Simplified function to calculate bootstrap samples\n",
    "def bootstrap_predictions(pipeline, X, n_bootstrap=50, sample_size=50):\n",
    "    preds = []\n",
    "    for i in range(n_bootstrap):\n",
    "        sample_indices = np.random.choice(range(X.shape[0]), sample_size, replace=True)\n",
    "        X_sample = X.iloc[sample_indices]\n",
    "        preds.append(pipeline.predict(X_sample))\n",
    "    return np.array(preds)\n",
    "\n",
    "# Using fewer bootstrap samples and a smaller sample size\n",
    "bootstrap_preds = bootstrap_predictions(pipeline, X_valid, n_bootstrap=50, sample_size=50)\n",
    "\n",
    "# Calculate confidence intervals\n",
    "ci_lower = np.percentile(bootstrap_preds, 2.5, axis=0)\n",
    "ci_upper = np.percentile(bootstrap_preds, 97.5, axis=0)\n",
    "\n",
    "# Print confidence intervals\n",
    "print(f'95% Confidence Interval for the predictions: \\nLower Bound: {ci_lower}\\nUpper Bound: {ci_upper}')\n"
   ]
  },
  {
   "cell_type": "code",
   "execution_count": null,
   "metadata": {},
   "outputs": [],
   "source": [
    "import joblib\n",
    "import datetime\n",
    "\n",
    "# Get the current timestamp\n",
    "timestamp = datetime.datetime.now().strftime('%d-%m-%Y-%H-%M-%S-%f')\n",
    "\n",
    "# Save the model\n",
    "model_filename = f'model_{timestamp}.pkl'\n",
    "joblib.dump(pipeline, model_filename)\n",
    "\n",
    "print(f\"Model saved as {model_filename}\")\n"
   ]
  }
 ],
 "metadata": {
  "kernelspec": {
   "display_name": "Python 3",
   "language": "python",
   "name": "python3"
  },
  "language_info": {
   "codemirror_mode": {
    "name": "ipython",
    "version": 3
   },
   "file_extension": ".py",
   "mimetype": "text/x-python",
   "name": "python",
   "nbconvert_exporter": "python",
   "pygments_lexer": "ipython3",
   "version": "3.10.12"
  }
 },
 "nbformat": 4,
 "nbformat_minor": 2
}
