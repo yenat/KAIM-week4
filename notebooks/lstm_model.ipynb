{
 "cells": [
  {
   "cell_type": "code",
   "execution_count": null,
   "metadata": {
    "vscode": {
     "languageId": "plaintext"
    }
   },
   "outputs": [],
   "source": [
    "# Importing necessary libraries\n",
    "import pandas as pd\n",
    "import numpy as np\n",
    "import matplotlib.pyplot as plt\n",
    "import seaborn as sns\n",
    "from statsmodels.tsa.stattools import adfuller, acf, pacf\n",
    "from sklearn.preprocessing import MinMaxScaler\n",
    "import tensorflow as tf\n",
    "from tensorflow.keras.models import Sequential\n",
    "from tensorflow.keras.layers import LSTM, Dense, Dropout\n"
   ]
  },
  {
   "cell_type": "code",
   "execution_count": null,
   "metadata": {
    "vscode": {
     "languageId": "plaintext"
    }
   },
   "outputs": [],
   "source": [
    "# Load the data\n",
    "train_df = pd.read_csv('/home/enat/Downloads/rossmann-store-sales/train.csv')\n",
    "\n",
    "# Display the first few rows of the dataset\n",
    "print(\"Train Data:\")\n",
    "print(train_df.head())\n",
    "\n",
    "# Isolate the 'Date' and 'Sales' columns\n",
    "time_series_data = train_df[['Date', 'Sales']]\n",
    "time_series_data['Date'] = pd.to_datetime(time_series_data['Date'])\n",
    "time_series_data.set_index('Date', inplace=True)\n",
    "\n",
    "# Resample the data to daily sales\n",
    "daily_sales = time_series_data['Sales'].resample('D').sum()\n",
    "\n",
    "# Display the resampled data\n",
    "print(\"Daily Sales Data:\")\n",
    "print(daily_sales.head())\n"
   ]
  },
  {
   "cell_type": "code",
   "execution_count": null,
   "metadata": {
    "vscode": {
     "languageId": "plaintext"
    }
   },
   "outputs": [],
   "source": [
    "# Check if time series data is stationary\n",
    "def check_stationarity(timeseries):\n",
    "    # Perform Dickey-Fuller test\n",
    "    result = adfuller(timeseries)\n",
    "    print('ADF Statistic:', result[0])\n",
    "    print('p-value:', result[1])\n",
    "    for key, value in result[4].items():\n",
    "        print('Critical Values:')\n",
    "        print(f'   {key}, {value}')\n",
    "\n",
    "check_stationarity(daily_sales)\n"
   ]
  },
  {
   "cell_type": "code",
   "execution_count": null,
   "metadata": {
    "vscode": {
     "languageId": "plaintext"
    }
   },
   "outputs": [],
   "source": [
    "# Differencing the data if necessary\n",
    "daily_sales_diff = daily_sales.diff().dropna()\n",
    "check_stationarity(daily_sales_diff)\n"
   ]
  },
  {
   "cell_type": "code",
   "execution_count": null,
   "metadata": {
    "vscode": {
     "languageId": "plaintext"
    }
   },
   "outputs": [],
   "source": [
    "#Check ACF and PACF\n",
    "plt.figure(figsize=(12, 6))\n",
    "plt.subplot(121)\n",
    "plt.plot(acf(daily_sales_diff, nlags=50))\n",
    "plt.title('Autocorrelation Function')\n",
    "plt.subplot(122)\n",
    "plt.plot(pacf(daily_sales_diff, nlags=50))\n",
    "plt.title('Partial Autocorrelation Function')\n",
    "plt.show()\n"
   ]
  },
  {
   "cell_type": "code",
   "execution_count": null,
   "metadata": {
    "vscode": {
     "languageId": "plaintext"
    }
   },
   "outputs": [],
   "source": [
    "# Create supervised learning data\n",
    "def create_supervised_data(data, window_size):\n",
    "    X, y = [], []\n",
    "    for i in range(len(data) - window_size):\n",
    "        X.append(data[i:(i + window_size)])\n",
    "        y.append(data[i + window_size])\n",
    "    return np.array(X), np.array(y)\n",
    "\n",
    "window_size = 30  # Example window size\n",
    "scaled_sales = MinMaxScaler(feature_range=(-1, 1)).fit_transform(daily_sales_diff.values.reshape(-1, 1))\n",
    "X, y = create_supervised_data(scaled_sales, window_size)\n",
    "\n",
    "# Split the data into training and testing sets\n",
    "split_index = int(0.8 * len(X))\n",
    "X_train, X_test = X[:split_index], X[split_index:]\n",
    "y_train, y_test = y[:split_index], y[split_index:]\n",
    "\n",
    "print(f\"Training samples: {X_train.shape[0]}, Testing samples: {X_test.shape[0]}\")\n"
   ]
  },
  {
   "cell_type": "code",
   "execution_count": null,
   "metadata": {
    "vscode": {
     "languageId": "plaintext"
    }
   },
   "outputs": [],
   "source": [
    "#Build and train the LSTM model\n",
    "model = Sequential()\n",
    "model.add(LSTM(50, return_sequences=True, input_shape=(window_size, 1)))\n",
    "model.add(Dropout(0.2))\n",
    "model.add(LSTM(50, return_sequences=False))\n",
    "model.add(Dropout(0.2))\n",
    "model.add(Dense(1))\n",
    "\n",
    "model.compile(optimizer='adam', loss='mean_squared_error')\n",
    "\n",
    "# Train the model\n",
    "history = model.fit(X_train, y_train, epochs=20, batch_size=32, validation_data=(X_test, y_test))\n",
    "\n",
    "# Plot training history\n",
    "plt.figure(figsize=(12, 6))\n",
    "plt.plot(history.history['loss'], label='Train Loss')\n",
    "plt.plot(history.history['val_loss'], label='Validation Loss')\n",
    "plt.title('Training and Validation Loss')\n",
    "plt.xlabel('Epochs')\n",
    "plt.ylabel('Loss')\n",
    "plt.legend()\n",
    "plt.show()\n"
   ]
  },
  {
   "cell_type": "code",
   "execution_count": null,
   "metadata": {
    "vscode": {
     "languageId": "plaintext"
    }
   },
   "outputs": [],
   "source": [
    "# Make predictions and evaluate the model\n",
    "y_pred = model.predict(X_test)\n",
    "\n",
    "# Inverse transform the predictions and actual values\n",
    "y_pred_inverse = MinMaxScaler().fit(daily_sales_diff.values.reshape(-1, 1)).inverse_transform(y_pred)\n",
    "y_test_inverse = MinMaxScaler().fit(daily_sales_diff.values.reshape(-1, 1)).inverse_transform(y_test.reshape(-1, 1))\n",
    "\n",
    "# Plot predictions vs actual values\n",
    "plt.figure(figsize=(12, 6))\n",
    "plt.plot(y_test_inverse, label='Actual Sales')\n",
    "plt.plot(y_pred_inverse, label='Predicted Sales')\n",
    "plt.title('Actual vs Predicted Sales')\n",
    "plt.xlabel('Time')\n",
    "plt.ylabel('Sales')\n",
    "plt.legend()\n",
    "plt.show()\n",
    "\n",
    "# Calculate mean squared error\n",
    "mse = mean_squared_error(y_test_inverse, y_pred_inverse)\n",
    "print(f\"Mean Squared Error: {mse}\")\n"
   ]
  }
 ],
 "metadata": {
  "language_info": {
   "name": "python"
  }
 },
 "nbformat": 4,
 "nbformat_minor": 2
}
