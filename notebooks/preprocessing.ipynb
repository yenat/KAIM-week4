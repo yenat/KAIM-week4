{
 "cells": [
  {
   "cell_type": "code",
   "execution_count": 1,
   "metadata": {},
   "outputs": [
    {
     "name": "stdout",
     "output_type": "stream",
     "text": [
      "Train Data:\n",
      "   Store  DayOfWeek        Date  Sales  Customers  Open  Promo StateHoliday  \\\n",
      "0      1          5  2015-07-31   5263        555     1      1            0   \n",
      "1      2          5  2015-07-31   6064        625     1      1            0   \n",
      "2      3          5  2015-07-31   8314        821     1      1            0   \n",
      "3      4          5  2015-07-31  13995       1498     1      1            0   \n",
      "4      5          5  2015-07-31   4822        559     1      1            0   \n",
      "\n",
      "   SchoolHoliday  \n",
      "0              1  \n",
      "1              1  \n",
      "2              1  \n",
      "3              1  \n",
      "4              1  \n",
      "\n",
      "Test Data:\n",
      "   Id  Store  DayOfWeek        Date  Open  Promo StateHoliday  SchoolHoliday\n",
      "0   1      1          4  2015-09-17   1.0      1            0              0\n",
      "1   2      3          4  2015-09-17   1.0      1            0              0\n",
      "2   3      7          4  2015-09-17   1.0      1            0              0\n",
      "3   4      8          4  2015-09-17   1.0      1            0              0\n",
      "4   5      9          4  2015-09-17   1.0      1            0              0\n"
     ]
    },
    {
     "name": "stderr",
     "output_type": "stream",
     "text": [
      "/home/enat/.local/lib/python3.10/site-packages/IPython/core/interactiveshell.py:3577: DtypeWarning: Columns (7) have mixed types.Specify dtype option on import or set low_memory=False.\n",
      "  exec(code_obj, self.user_global_ns, self.user_ns)\n"
     ]
    }
   ],
   "source": [
    "# Importing necessary libraries\n",
    "import pandas as pd\n",
    "import numpy as np\n",
    "from sklearn.preprocessing import StandardScaler\n",
    "import matplotlib.pyplot as plt\n",
    "import seaborn as sns\n",
    "\n",
    "# Load the data\n",
    "train_df = pd.read_csv('/home/enat/Downloads/rossmann-store-sales/train.csv')\n",
    "test_df = pd.read_csv('/home/enat/Downloads/rossmann-store-sales/test.csv')\n",
    "\n",
    "# Display the first few rows of the train dataset\n",
    "print(\"Train Data:\")\n",
    "print(train_df.head())\n",
    "\n",
    "# Display the first few rows of the test dataset\n",
    "print(\"\\nTest Data:\")\n",
    "print(test_df.head())\n"
   ]
  },
  {
   "cell_type": "code",
   "execution_count": 3,
   "metadata": {},
   "outputs": [
    {
     "name": "stdout",
     "output_type": "stream",
     "text": [
      "\n",
      "Processed Train Data:\n",
      "   Store  DayOfWeek        Date    Sales  Customers  Open  Promo StateHoliday  \\\n",
      "0      1          5  2015-07-31   5263.0        555   1.0      1            0   \n",
      "1      2          5  2015-07-31   6064.0        625   1.0      1            0   \n",
      "2      3          5  2015-07-31   8314.0        821   1.0      1            0   \n",
      "3      4          5  2015-07-31  13995.0       1498   1.0      1            0   \n",
      "4      5          5  2015-07-31   4822.0        559   1.0      1            0   \n",
      "\n",
      "   SchoolHoliday  \n",
      "0              1  \n",
      "1              1  \n",
      "2              1  \n",
      "3              1  \n",
      "4              1  \n",
      "\n",
      "Processed Test Data:\n",
      "   Id  Store  DayOfWeek        Date  Open  Promo StateHoliday  SchoolHoliday\n",
      "0   1      1          4  2015-09-17   1.0      1            0              0\n",
      "1   2      3          4  2015-09-17   1.0      1            0              0\n",
      "2   3      7          4  2015-09-17   1.0      1            0              0\n",
      "3   4      8          4  2015-09-17   1.0      1            0              0\n",
      "4   5      9          4  2015-09-17   1.0      1            0              0\n"
     ]
    }
   ],
   "source": [
    "# Convert non-numeric columns to numeric (only for columns that exist)\n",
    "def convert_to_numeric(df, is_train=True):\n",
    "    df['Store'] = df['Store'].astype(int)\n",
    "    if is_train:\n",
    "        df['Sales'] = df['Sales'].astype(float)\n",
    "        df['Customers'] = df['Customers'].astype(int)\n",
    "    df['DayOfWeek'] = df['DayOfWeek'].astype(int)\n",
    "    df['Open'] = df['Open'].astype(float)\n",
    "    df['Promo'] = df['Promo'].astype(int)\n",
    "    df['SchoolHoliday'] = df['SchoolHoliday'].astype(int)\n",
    "    return df\n",
    "\n",
    "train_df = convert_to_numeric(train_df, is_train=True)\n",
    "test_df = convert_to_numeric(test_df, is_train=False)\n",
    "\n",
    "# Display the processed data\n",
    "print(\"\\nProcessed Train Data:\")\n",
    "print(train_df.head())\n",
    "print(\"\\nProcessed Test Data:\")\n",
    "print(test_df.head())\n",
    "\n"
   ]
  },
  {
   "cell_type": "code",
   "execution_count": 4,
   "metadata": {},
   "outputs": [
    {
     "name": "stdout",
     "output_type": "stream",
     "text": [
      "\n",
      "Processed Train Data (NaN handled):\n",
      "   Store  DayOfWeek        Date    Sales  Customers  Open  Promo StateHoliday  \\\n",
      "0      1          5  2015-07-31   5263.0        555   1.0      1            0   \n",
      "1      2          5  2015-07-31   6064.0        625   1.0      1            0   \n",
      "2      3          5  2015-07-31   8314.0        821   1.0      1            0   \n",
      "3      4          5  2015-07-31  13995.0       1498   1.0      1            0   \n",
      "4      5          5  2015-07-31   4822.0        559   1.0      1            0   \n",
      "\n",
      "   SchoolHoliday  \n",
      "0              1  \n",
      "1              1  \n",
      "2              1  \n",
      "3              1  \n",
      "4              1  \n",
      "\n",
      "Processed Test Data (NaN handled):\n",
      "   Id  Store  DayOfWeek        Date  Open  Promo StateHoliday  SchoolHoliday\n",
      "0   1      1          4  2015-09-17   1.0      1            0              0\n",
      "1   2      3          4  2015-09-17   1.0      1            0              0\n",
      "2   3      7          4  2015-09-17   1.0      1            0              0\n",
      "3   4      8          4  2015-09-17   1.0      1            0              0\n",
      "4   5      9          4  2015-09-17   1.0      1            0              0\n"
     ]
    },
    {
     "name": "stderr",
     "output_type": "stream",
     "text": [
      "/tmp/ipykernel_10918/3114566300.py:3: FutureWarning: Dropping of nuisance columns in DataFrame reductions (with 'numeric_only=None') is deprecated; in a future version this will raise TypeError.  Select only valid columns before calling the reduction.\n",
      "  df.fillna(df.median(), inplace=True)\n",
      "/tmp/ipykernel_10918/3114566300.py:3: FutureWarning: Dropping of nuisance columns in DataFrame reductions (with 'numeric_only=None') is deprecated; in a future version this will raise TypeError.  Select only valid columns before calling the reduction.\n",
      "  df.fillna(df.median(), inplace=True)\n"
     ]
    }
   ],
   "source": [
    "# Handle NaN values\n",
    "def handle_missing_values(df):\n",
    "    df.fillna(df.median(), inplace=True)\n",
    "    return df\n",
    "\n",
    "train_df = handle_missing_values(train_df)\n",
    "test_df = handle_missing_values(test_df)\n",
    "\n",
    "# Display the processed data\n",
    "print(\"\\nProcessed Train Data (NaN handled):\")\n",
    "print(train_df.head())\n",
    "print(\"\\nProcessed Test Data (NaN handled):\")\n",
    "print(test_df.head())\n"
   ]
  },
  {
   "cell_type": "code",
   "execution_count": 5,
   "metadata": {},
   "outputs": [
    {
     "name": "stdout",
     "output_type": "stream",
     "text": [
      "\n",
      "Train Data with New Features:\n",
      "   Store  DayOfWeek       Date    Sales  Customers  Open  Promo StateHoliday  \\\n",
      "0      1          5 2015-07-31   5263.0        555   1.0      1            0   \n",
      "1      2          5 2015-07-31   6064.0        625   1.0      1            0   \n",
      "2      3          5 2015-07-31   8314.0        821   1.0      1            0   \n",
      "3      4          5 2015-07-31  13995.0       1498   1.0      1            0   \n",
      "4      5          5 2015-07-31   4822.0        559   1.0      1            0   \n",
      "\n",
      "   SchoolHoliday  Weekday  Weekend  Day_of_Month  Month  Year  \\\n",
      "0              1        4    False            31      7  2015   \n",
      "1              1        4    False            31      7  2015   \n",
      "2              1        4    False            31      7  2015   \n",
      "3              1        4    False            31      7  2015   \n",
      "4              1        4    False            31      7  2015   \n",
      "\n",
      "   Is_Beginning_Month  Is_Mid_Month  Is_End_Month  \n",
      "0               False         False          True  \n",
      "1               False         False          True  \n",
      "2               False         False          True  \n",
      "3               False         False          True  \n",
      "4               False         False          True  \n",
      "\n",
      "Test Data with New Features:\n",
      "   Id  Store  DayOfWeek       Date  Open  Promo StateHoliday  SchoolHoliday  \\\n",
      "0   1      1          4 2015-09-17   1.0      1            0              0   \n",
      "1   2      3          4 2015-09-17   1.0      1            0              0   \n",
      "2   3      7          4 2015-09-17   1.0      1            0              0   \n",
      "3   4      8          4 2015-09-17   1.0      1            0              0   \n",
      "4   5      9          4 2015-09-17   1.0      1            0              0   \n",
      "\n",
      "   Weekday  Weekend  Day_of_Month  Month  Year  Is_Beginning_Month  \\\n",
      "0        3    False            17      9  2015               False   \n",
      "1        3    False            17      9  2015               False   \n",
      "2        3    False            17      9  2015               False   \n",
      "3        3    False            17      9  2015               False   \n",
      "4        3    False            17      9  2015               False   \n",
      "\n",
      "   Is_Mid_Month  Is_End_Month  \n",
      "0          True         False  \n",
      "1          True         False  \n",
      "2          True         False  \n",
      "3          True         False  \n",
      "4          True         False  \n"
     ]
    }
   ],
   "source": [
    "# Extract new features from datetime columns\n",
    "def extract_features(df):\n",
    "    df['Date'] = pd.to_datetime(df['Date'])\n",
    "    df['Weekday'] = df['Date'].dt.weekday\n",
    "    df['Weekend'] = df['Weekday'] >= 5\n",
    "    df['Day_of_Month'] = df['Date'].dt.day\n",
    "    df['Month'] = df['Date'].dt.month\n",
    "    df['Year'] = df['Date'].dt.year\n",
    "    df['Is_Beginning_Month'] = df['Date'].dt.day <= 10\n",
    "    df['Is_Mid_Month'] = (df['Date'].dt.day > 10) & (df['Date'].dt.day <= 20)\n",
    "    df['Is_End_Month'] = df['Date'].dt.day > 20\n",
    "    return df\n",
    "\n",
    "train_df = extract_features(train_df)\n",
    "test_df = extract_features(test_df)\n",
    "\n",
    "# Display the new features\n",
    "print(\"\\nTrain Data with New Features:\")\n",
    "print(train_df.head())\n",
    "print(\"\\nTest Data with New Features:\")\n",
    "print(test_df.head())\n"
   ]
  },
  {
   "cell_type": "code",
   "execution_count": 9,
   "metadata": {},
   "outputs": [
    {
     "name": "stdout",
     "output_type": "stream",
     "text": [
      "\n",
      "Scaled Train Data:\n",
      "   Store  DayOfWeek       Date     Sales  Customers      Open     Promo  \\\n",
      "0      1   0.501484 2015-07-31 -0.132683  -0.168269  0.452399  1.273237   \n",
      "1      2   0.501484 2015-07-31  0.075373  -0.017540  0.452399  1.273237   \n",
      "2      3   0.501484 2015-07-31  0.659800   0.404499  0.452399  1.273237   \n",
      "3      4   0.501484 2015-07-31  2.135414   1.862258  0.452399  1.273237   \n",
      "4      5   0.501484 2015-07-31 -0.247231  -0.159656  0.452399  1.273237   \n",
      "\n",
      "  StateHoliday  SchoolHoliday   Weekday  Weekend  Day_of_Month     Month  \\\n",
      "0            0       2.144211  0.501484    False      1.740766  0.346724   \n",
      "1            0       2.144211  0.501484    False      1.740766  0.346724   \n",
      "2            0       2.144211  0.501484    False      1.740766  0.346724   \n",
      "3            0       2.144211  0.501484    False      1.740766  0.346724   \n",
      "4            0       2.144211  0.501484    False      1.740766  0.346724   \n",
      "\n",
      "       Year  Is_Beginning_Month  Is_Mid_Month  Is_End_Month  \n",
      "0  1.502077               False         False          True  \n",
      "1  1.502077               False         False          True  \n",
      "2  1.502077               False         False          True  \n",
      "3  1.502077               False         False          True  \n",
      "4  1.502077               False         False          True  \n"
     ]
    }
   ],
   "source": [
    "# Scale the train data\n",
    "scaler = StandardScaler()\n",
    "# Selecting numeric features for scaling in the train data\n",
    "numeric_features_train = ['DayOfWeek', 'Open', 'Promo', 'SchoolHoliday', 'Weekday', 'Day_of_Month', 'Month', 'Year', 'Sales', 'Customers']\n",
    "\n",
    "# Fit and transform the train data\n",
    "train_df[numeric_features_train] = scaler.fit_transform(train_df[numeric_features_train])\n",
    "\n",
    "# Display scaled train data\n",
    "print(\"\\nScaled Train Data:\")\n",
    "print(train_df.head())\n"
   ]
  },
  {
   "cell_type": "code",
   "execution_count": 10,
   "metadata": {},
   "outputs": [
    {
     "name": "stdout",
     "output_type": "stream",
     "text": [
      "\n",
      "Scaled Test Data:\n",
      "   Id  Store  DayOfWeek       Date      Open     Promo StateHoliday  \\\n",
      "0   1      1   0.010337 2015-09-17  0.412874  1.235442            0   \n",
      "1   2      3   0.010337 2015-09-17  0.412874  1.235442            0   \n",
      "2   3      7   0.010337 2015-09-17  0.412874  1.235442            0   \n",
      "3   4      8   0.010337 2015-09-17  0.412874  1.235442            0   \n",
      "4   5      9   0.010337 2015-09-17  0.412874  1.235442            0   \n",
      "\n",
      "   SchoolHoliday   Weekday  Weekend  Day_of_Month     Month  Year  \\\n",
      "0      -0.892695  0.010337    False      0.411816  1.350381   0.0   \n",
      "1      -0.892695  0.010337    False      0.411816  1.350381   0.0   \n",
      "2      -0.892695  0.010337    False      0.411816  1.350381   0.0   \n",
      "3      -0.892695  0.010337    False      0.411816  1.350381   0.0   \n",
      "4      -0.892695  0.010337    False      0.411816  1.350381   0.0   \n",
      "\n",
      "   Is_Beginning_Month  Is_Mid_Month  Is_End_Month  \n",
      "0               False          True         False  \n",
      "1               False          True         False  \n",
      "2               False          True         False  \n",
      "3               False          True         False  \n",
      "4               False          True         False  \n"
     ]
    }
   ],
   "source": [
    "# Scale the test data\n",
    "scaler_test = StandardScaler()\n",
    "# Selecting numeric features for scaling in the test data\n",
    "numeric_features_test = ['DayOfWeek', 'Open', 'Promo', 'SchoolHoliday', 'Weekday', 'Day_of_Month', 'Month', 'Year']\n",
    "\n",
    "# Fit and transform the test data separately\n",
    "test_df[numeric_features_test] = scaler_test.fit_transform(test_df[numeric_features_test])\n",
    "\n",
    "# Display scaled test data\n",
    "print(\"\\nScaled Test Data:\")\n",
    "print(test_df.head())\n"
   ]
  },
  {
   "cell_type": "code",
   "execution_count": null,
   "metadata": {},
   "outputs": [],
   "source": [
    "# Save the preprocessed train and test data\n",
    "train_df.to_csv('preprocessed_train.csv', index=False)\n",
    "test_df.to_csv('preprocessed_test.csv', index=False)\n",
    "\n",
    "print(\"Preprocessed data saved.\")\n"
   ]
  }
 ],
 "metadata": {
  "kernelspec": {
   "display_name": "Python 3",
   "language": "python",
   "name": "python3"
  },
  "language_info": {
   "codemirror_mode": {
    "name": "ipython",
    "version": 3
   },
   "file_extension": ".py",
   "mimetype": "text/x-python",
   "name": "python",
   "nbconvert_exporter": "python",
   "pygments_lexer": "ipython3",
   "version": "3.10.12"
  }
 },
 "nbformat": 4,
 "nbformat_minor": 2
}
